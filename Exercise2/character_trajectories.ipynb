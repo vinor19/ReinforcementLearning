{
 "cells": [
  {
   "cell_type": "code",
   "execution_count": null,
   "metadata": {},
   "outputs": [],
   "source": [
    "import numpy as np\n",
    "import torch\n",
    "import matplotlib.pyplot as plt\n",
    "import scipy.io"
   ]
  },
  {
   "cell_type": "code",
   "execution_count": null,
   "metadata": {},
   "outputs": [],
   "source": [
    "mat = scipy.io.loadmat('mixoutALL_shifted.mat')"
   ]
  },
  {
   "cell_type": "code",
   "execution_count": null,
   "metadata": {},
   "outputs": [],
   "source": [
    "np.unique(mat[\"consts\"][0][0][4][0])"
   ]
  },
  {
   "cell_type": "code",
   "execution_count": null,
   "metadata": {},
   "outputs": [],
   "source": [
    "class CharacterTrajectoriesDataset(torch.utils.data.Dataset):\n",
    "\n",
    "\tdef __init__(self, path = \"mixoutALL_shifted.mat\"):\n",
    "\t\tself.path = path\n",
    "\t\tmat = scipy.io.loadmat(path)\n",
    "\t\tself.classes = torch.from_numpy(mat[\"consts\"][0][0][4][0]).long()\n",
    "\t\ttrajectories = [torch.from_numpy(x).permute(1, 0) for x in mat[\"mixout\"][0]]\n",
    "\t\tself.trajectories = torch.nn.utils.rnn.pad_sequence(trajectories, batch_first = True).float()\n",
    "\n",
    "\tdef __len__(self):\n",
    "\t\treturn len(self.classes)\n",
    "\n",
    "\tdef __getitem__(self, i):\n",
    "\t\t\"\"\"Returns trajectory (T, 3)\n",
    "\t\t\"\"\"\n",
    "\t\tsource = self.trajectories[i]\n",
    "\t\ttarget = self.classes[i]\n",
    "\t\treturn source, target"
   ]
  },
  {
   "cell_type": "code",
   "execution_count": null,
   "metadata": {},
   "outputs": [],
   "source": [
    "from unicodedata import bidirectional\n",
    "\n",
    "class CharacterRNN(torch.nn.Module):\n",
    "    def __init__(self, hidden_size=32, num_layers=2, num_classes = 21, bidirectional = True):\n",
    "        super(CharacterRNN, self).__init__()\n",
    "        self.rnn = torch.nn.LSTM(3, hidden_size, num_layers, batch_first = True, bidirectional = bidirectional)\n",
    "        # self.out = torch.nn.Linear(hidden_size, num_classes)\n",
    "        bd = 2 if bidirectional else 1\n",
    "        self.out = torch.nn.Linear(hidden_size*num_layers*bd, num_classes)\n",
    "    def forward(self, x):\n",
    "        enc, (hn, cn) = self.rnn(x)\n",
    "        # out = self.out(hn[-1])\n",
    "        out = self.out(hn.permute(1,0,2).flatten(1))\n",
    "        return out"
   ]
  },
  {
   "cell_type": "code",
   "execution_count": null,
   "metadata": {},
   "outputs": [],
   "source": [
    "ds = CharacterTrajectoriesDataset()\n",
    "dl = torch.utils.data.DataLoader(ds, batch_size = 128, shuffle = True)\n",
    "num_batches = len(dl)\n",
    "model = CharacterRNN(num_classes = 21)\n",
    "optimizer = torch.optim.Adam(model.parameters(), lr=0.001)\n",
    "loss_fcn = torch.nn.CrossEntropyLoss()"
   ]
  },
  {
   "cell_type": "code",
   "execution_count": null,
   "metadata": {},
   "outputs": [],
   "source": [
    "src, tar = ds[0]\n",
    "print(src.shape)\n",
    "print(tar.shape)"
   ]
  },
  {
   "cell_type": "code",
   "execution_count": null,
   "metadata": {},
   "outputs": [],
   "source": [
    "for epoch in range(100): \n",
    "    epoch_loss = 0\n",
    "    num_correct = 0\n",
    "    for source, target in dl:\n",
    "        model.zero_grad()\n",
    "        pred = model(source)\n",
    "        loss = loss_fcn(pred, target)\n",
    "        loss.backward()\n",
    "        optimizer.step()\n",
    "        batch_loss = loss.item()\n",
    "        num_correct += (pred.argmax(dim=-1) == target).sum()\n",
    "        # print(f\"\\rLoss: {batch_loss}\")\n",
    "        epoch_loss += batch_loss\n",
    "    epoch_loss /= num_batches\n",
    "    print(f\"\\rEpoch Loss: {epoch_loss}\")\n",
    "    print(f\"\\rEpoch Accuracy: {num_correct / len(ds)}\")"
   ]
  },
  {
   "cell_type": "code",
   "execution_count": null,
   "metadata": {},
   "outputs": [],
   "source": []
  }
 ],
 "metadata": {
  "kernelspec": {
   "display_name": "Python 3.10.6 64-bit",
   "language": "python",
   "name": "python3"
  },
  "language_info": {
   "codemirror_mode": {
    "name": "ipython",
    "version": 3
   },
   "file_extension": ".py",
   "mimetype": "text/x-python",
   "name": "python",
   "nbconvert_exporter": "python",
   "pygments_lexer": "ipython3",
   "version": "3.10.6"
  },
  "orig_nbformat": 4,
  "vscode": {
   "interpreter": {
    "hash": "8a94588eda9d64d9e9a351ab8144e55b1fabf5113b54e67dd26a8c27df0381b3"
   }
  }
 },
 "nbformat": 4,
 "nbformat_minor": 2
}
